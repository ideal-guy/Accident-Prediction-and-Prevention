{
 "cells": [
  {
   "cell_type": "code",
   "execution_count": 4,
   "id": "1d82bd78",
   "metadata": {},
   "outputs": [],
   "source": [
    "import pandas as pd\n",
    "import numpy as np\n",
    "import glob\n",
    "import matplotlib.pyplot as plt\n",
    "import seaborn as sns\n",
    "\n",
    "import warnings\n",
    "warnings.filterwarnings(\"ignore\")\n",
    "\n",
    "\n",
    "from sklearn.ensemble import RandomForestClassifier\n",
    "from sklearn.metrics import classification_report, confusion_matrix\n",
    "from sklearn.model_selection import KFold, cross_val_score\n",
    "\n",
    "import tensorflow as tf\n",
    "from tensorflow.keras import layers\n",
    "from tensorflow.keras import utils\n",
    "from tensorflow.keras.layers import Dense\n",
    "import tensorflow as tf\n",
    "from tensorflow.keras import layers\n",
    "from tensorflow.keras import utils\n",
    "from tensorflow.keras.layers import Dense\n",
    "from sklearn import preprocessing\n",
    "\n",
    "from sklearn.metrics import classification_report"
   ]
  },
  {
   "cell_type": "code",
   "execution_count": 27,
   "id": "faec8f87",
   "metadata": {},
   "outputs": [],
   "source": [
    "df = pd.read_csv(\"C:\\\\Users\\\\Prakhar\\\\Desktop\\\\Accident_Information.csv\\\\Accident_Information.csv\")\n",
    "#df.shape()\n",
    "#df.head()\n",
    "#df.info()\n",
    "#df.describe().T"
   ]
  },
  {
   "cell_type": "code",
   "execution_count": 28,
   "id": "eacbf540",
   "metadata": {},
   "outputs": [],
   "source": [
    "df2 = pd.read_csv(\"C:\\\\Users\\\\Prakhar\\\\Desktop\\\\Vehicle_Information.csv\\\\Vehicle_Information.csv\", encoding='ISO-8859-1')\n",
    "#df2.head()\n",
    "#df2.shape()\n",
    "#df2.info()\n",
    "#df2.describe().T\n",
    "#df2.isna().sum()"
   ]
  },
  {
   "cell_type": "code",
   "execution_count": 29,
   "id": "72455d7c",
   "metadata": {},
   "outputs": [],
   "source": [
    "df['Hour'] = df['Time'].str[0:2]\n",
    "df['Hour'] = pd.to_numeric(df['Hour'])\n",
    "df = df.dropna(subset=['Hour'])\n",
    "df['Hour'] = df['Hour'].astype('int')\n",
    "\n",
    "def time_conversion(hour):\n",
    "    if hour >= 5 and hour < 10:\n",
    "        return \"1\"\n",
    "    elif hour >= 10 and hour < 15:\n",
    "        return \"2\"\n",
    "    elif hour >= 15 and hour < 19:\n",
    "        return \"3\"\n",
    "    elif hour >= 19 and hour < 23:\n",
    "        return \"4\"\n",
    "    else:\n",
    "        return \"5\""
   ]
  },
  {
   "cell_type": "code",
   "execution_count": 30,
   "id": "f542d651",
   "metadata": {},
   "outputs": [],
   "source": [
    "daytime_groups = {1: 'Morning: Between 5 and 10', \n",
    "                  2: 'Office Hours: Between 10 and 15', \n",
    "                  3: 'Afternoon Rush: Between 15 and 19', \n",
    "                  4: 'Evening: Between 19 and 23', \n",
    "                  5: 'Night: Between 23 and 5'}\n",
    "\n",
    "\n",
    "\n",
    "df['Daytime'] = df['Hour'].apply(time_conversion)\n",
    "df[['Time', 'Hour', 'Daytime']].head()\n",
    "\n",
    "df = df.drop(columns=['Time', 'Hour'])\n",
    "# print('Proportion of Missing Values in df :',round(df.isna().sum().sum()/len(df), 3), '%')\n"
   ]
  },
  {
   "cell_type": "code",
   "execution_count": 31,
   "id": "b9e75f39",
   "metadata": {},
   "outputs": [
    {
     "data": {
      "text/html": [
       "<div>\n",
       "<style scoped>\n",
       "    .dataframe tbody tr th:only-of-type {\n",
       "        vertical-align: middle;\n",
       "    }\n",
       "\n",
       "    .dataframe tbody tr th {\n",
       "        vertical-align: top;\n",
       "    }\n",
       "\n",
       "    .dataframe thead th {\n",
       "        text-align: right;\n",
       "    }\n",
       "</style>\n",
       "<table border=\"1\" class=\"dataframe\">\n",
       "  <thead>\n",
       "    <tr style=\"text-align: right;\">\n",
       "      <th></th>\n",
       "      <th>Accident_Index</th>\n",
       "      <th>1st_Road_Class</th>\n",
       "      <th>1st_Road_Number</th>\n",
       "      <th>2nd_Road_Class</th>\n",
       "      <th>2nd_Road_Number</th>\n",
       "      <th>Accident_Severity</th>\n",
       "      <th>Carriageway_Hazards</th>\n",
       "      <th>Date</th>\n",
       "      <th>Day_of_Week</th>\n",
       "      <th>Did_Police_Officer_Attend_Scene_of_Accident</th>\n",
       "      <th>...</th>\n",
       "      <th>Police_Force</th>\n",
       "      <th>Road_Surface_Conditions</th>\n",
       "      <th>Road_Type</th>\n",
       "      <th>Special_Conditions_at_Site</th>\n",
       "      <th>Speed_limit</th>\n",
       "      <th>Urban_or_Rural_Area</th>\n",
       "      <th>Weather_Conditions</th>\n",
       "      <th>Year</th>\n",
       "      <th>InScotland</th>\n",
       "      <th>Daytime</th>\n",
       "    </tr>\n",
       "  </thead>\n",
       "  <tbody>\n",
       "    <tr>\n",
       "      <th>0</th>\n",
       "      <td>200501BS00001</td>\n",
       "      <td>A</td>\n",
       "      <td>3218.0</td>\n",
       "      <td>NaN</td>\n",
       "      <td>0.0</td>\n",
       "      <td>Serious</td>\n",
       "      <td>None</td>\n",
       "      <td>2005-01-04</td>\n",
       "      <td>Tuesday</td>\n",
       "      <td>1.0</td>\n",
       "      <td>...</td>\n",
       "      <td>Metropolitan Police</td>\n",
       "      <td>Wet or damp</td>\n",
       "      <td>Single carriageway</td>\n",
       "      <td>None</td>\n",
       "      <td>30.0</td>\n",
       "      <td>Urban</td>\n",
       "      <td>Raining no high winds</td>\n",
       "      <td>2005</td>\n",
       "      <td>No</td>\n",
       "      <td>3</td>\n",
       "    </tr>\n",
       "    <tr>\n",
       "      <th>1</th>\n",
       "      <td>200501BS00002</td>\n",
       "      <td>B</td>\n",
       "      <td>450.0</td>\n",
       "      <td>C</td>\n",
       "      <td>0.0</td>\n",
       "      <td>Slight</td>\n",
       "      <td>None</td>\n",
       "      <td>2005-01-05</td>\n",
       "      <td>Wednesday</td>\n",
       "      <td>1.0</td>\n",
       "      <td>...</td>\n",
       "      <td>Metropolitan Police</td>\n",
       "      <td>Dry</td>\n",
       "      <td>Dual carriageway</td>\n",
       "      <td>None</td>\n",
       "      <td>30.0</td>\n",
       "      <td>Urban</td>\n",
       "      <td>Fine no high winds</td>\n",
       "      <td>2005</td>\n",
       "      <td>No</td>\n",
       "      <td>3</td>\n",
       "    </tr>\n",
       "    <tr>\n",
       "      <th>2</th>\n",
       "      <td>200501BS00003</td>\n",
       "      <td>C</td>\n",
       "      <td>0.0</td>\n",
       "      <td>NaN</td>\n",
       "      <td>0.0</td>\n",
       "      <td>Slight</td>\n",
       "      <td>None</td>\n",
       "      <td>2005-01-06</td>\n",
       "      <td>Thursday</td>\n",
       "      <td>1.0</td>\n",
       "      <td>...</td>\n",
       "      <td>Metropolitan Police</td>\n",
       "      <td>Dry</td>\n",
       "      <td>Single carriageway</td>\n",
       "      <td>None</td>\n",
       "      <td>30.0</td>\n",
       "      <td>Urban</td>\n",
       "      <td>Fine no high winds</td>\n",
       "      <td>2005</td>\n",
       "      <td>No</td>\n",
       "      <td>5</td>\n",
       "    </tr>\n",
       "    <tr>\n",
       "      <th>3</th>\n",
       "      <td>200501BS00004</td>\n",
       "      <td>A</td>\n",
       "      <td>3220.0</td>\n",
       "      <td>NaN</td>\n",
       "      <td>0.0</td>\n",
       "      <td>Slight</td>\n",
       "      <td>None</td>\n",
       "      <td>2005-01-07</td>\n",
       "      <td>Friday</td>\n",
       "      <td>1.0</td>\n",
       "      <td>...</td>\n",
       "      <td>Metropolitan Police</td>\n",
       "      <td>Dry</td>\n",
       "      <td>Single carriageway</td>\n",
       "      <td>None</td>\n",
       "      <td>30.0</td>\n",
       "      <td>Urban</td>\n",
       "      <td>Fine no high winds</td>\n",
       "      <td>2005</td>\n",
       "      <td>No</td>\n",
       "      <td>2</td>\n",
       "    </tr>\n",
       "    <tr>\n",
       "      <th>4</th>\n",
       "      <td>200501BS00005</td>\n",
       "      <td>Unclassified</td>\n",
       "      <td>0.0</td>\n",
       "      <td>NaN</td>\n",
       "      <td>0.0</td>\n",
       "      <td>Slight</td>\n",
       "      <td>None</td>\n",
       "      <td>2005-01-10</td>\n",
       "      <td>Monday</td>\n",
       "      <td>1.0</td>\n",
       "      <td>...</td>\n",
       "      <td>Metropolitan Police</td>\n",
       "      <td>Wet or damp</td>\n",
       "      <td>Single carriageway</td>\n",
       "      <td>None</td>\n",
       "      <td>30.0</td>\n",
       "      <td>Urban</td>\n",
       "      <td>Fine no high winds</td>\n",
       "      <td>2005</td>\n",
       "      <td>No</td>\n",
       "      <td>4</td>\n",
       "    </tr>\n",
       "  </tbody>\n",
       "</table>\n",
       "<p>5 rows × 34 columns</p>\n",
       "</div>"
      ],
      "text/plain": [
       "  Accident_Index 1st_Road_Class  1st_Road_Number 2nd_Road_Class  \\\n",
       "0  200501BS00001              A           3218.0            NaN   \n",
       "1  200501BS00002              B            450.0              C   \n",
       "2  200501BS00003              C              0.0            NaN   \n",
       "3  200501BS00004              A           3220.0            NaN   \n",
       "4  200501BS00005   Unclassified              0.0            NaN   \n",
       "\n",
       "   2nd_Road_Number Accident_Severity Carriageway_Hazards        Date  \\\n",
       "0              0.0           Serious                None  2005-01-04   \n",
       "1              0.0            Slight                None  2005-01-05   \n",
       "2              0.0            Slight                None  2005-01-06   \n",
       "3              0.0            Slight                None  2005-01-07   \n",
       "4              0.0            Slight                None  2005-01-10   \n",
       "\n",
       "  Day_of_Week  Did_Police_Officer_Attend_Scene_of_Accident  ...  \\\n",
       "0     Tuesday                                          1.0  ...   \n",
       "1   Wednesday                                          1.0  ...   \n",
       "2    Thursday                                          1.0  ...   \n",
       "3      Friday                                          1.0  ...   \n",
       "4      Monday                                          1.0  ...   \n",
       "\n",
       "          Police_Force Road_Surface_Conditions           Road_Type  \\\n",
       "0  Metropolitan Police             Wet or damp  Single carriageway   \n",
       "1  Metropolitan Police                     Dry    Dual carriageway   \n",
       "2  Metropolitan Police                     Dry  Single carriageway   \n",
       "3  Metropolitan Police                     Dry  Single carriageway   \n",
       "4  Metropolitan Police             Wet or damp  Single carriageway   \n",
       "\n",
       "  Special_Conditions_at_Site Speed_limit Urban_or_Rural_Area  \\\n",
       "0                       None        30.0               Urban   \n",
       "1                       None        30.0               Urban   \n",
       "2                       None        30.0               Urban   \n",
       "3                       None        30.0               Urban   \n",
       "4                       None        30.0               Urban   \n",
       "\n",
       "      Weather_Conditions  Year  InScotland Daytime  \n",
       "0  Raining no high winds  2005          No       3  \n",
       "1     Fine no high winds  2005          No       3  \n",
       "2     Fine no high winds  2005          No       5  \n",
       "3     Fine no high winds  2005          No       2  \n",
       "4     Fine no high winds  2005          No       4  \n",
       "\n",
       "[5 rows x 34 columns]"
      ]
     },
     "execution_count": 31,
     "metadata": {},
     "output_type": "execute_result"
    }
   ],
   "source": [
    "df.head()"
   ]
  },
  {
   "cell_type": "code",
   "execution_count": 32,
   "id": "f9f8254a",
   "metadata": {},
   "outputs": [
    {
     "data": {
      "text/plain": [
       "0"
      ]
     },
     "execution_count": 32,
     "metadata": {},
     "output_type": "execute_result"
    }
   ],
   "source": [
    "df = df.drop(columns=['2nd_Road_Class', '2nd_Road_Number', 'Did_Police_Officer_Attend_Scene_of_Accident',\n",
    "                                    'Location_Easting_OSGR', 'Location_Northing_OSGR', \n",
    "                                    'LSOA_of_Accident_Location',\n",
    "                                    'Pedestrian_Crossing-Human_Control', 'Pedestrian_Crossing-Physical_Facilities',\n",
    "                                    'InScotland'])\n",
    "\n",
    "df = df.dropna()\n",
    "df.isna().sum().sum()"
   ]
  },
  {
   "cell_type": "code",
   "execution_count": 33,
   "id": "3f43ca6d",
   "metadata": {},
   "outputs": [],
   "source": [
    "df3 = pd.merge(df[['Accident_Index', 'Accident_Severity', 'Daytime', 'Speed_limit', 'Urban_or_Rural_Area',\"Latitude\",\"Longitude\"]], \n",
    "              df2[['Accident_Index', 'Age_Band_of_Driver', 'Age_of_Vehicle', 'Sex_of_Driver', \n",
    "                        'Engine_Capacity_.CC.', 'Vehicle_Manoeuvre']], \n",
    "              on='Accident_Index')\n",
    "\n",
    "# df3.isna().sum()\n",
    "df3 = df3.dropna()\n",
    "# df3.isna().sum().sum()\n",
    "#df.info()    "
   ]
  },
  {
   "cell_type": "code",
   "execution_count": 34,
   "id": "50d169e2",
   "metadata": {},
   "outputs": [],
   "source": [
    "for col in ['Accident_Severity', 'Daytime', 'Speed_limit', 'Urban_or_Rural_Area',\n",
    "            'Age_Band_of_Driver', 'Sex_of_Driver', 'Vehicle_Manoeuvre']:\n",
    "    df3[col] = df3[col].astype('category')\n",
    "    \n",
    "#df3.info()"
   ]
  },
  {
   "cell_type": "code",
   "execution_count": 35,
   "id": "45644aa8",
   "metadata": {},
   "outputs": [
    {
     "data": {
      "image/png": "[encoded data removed]",
      "text/plain": [
       "<Figure size 1000x400 with 2 Axes>"
      ]
     },
     "metadata": {},
     "output_type": "display_data"
    }
   ],
   "source": [
    "num_cols = ['Age_of_Vehicle', 'Engine_Capacity_.CC.']\n",
    "sns.set(style='darkgrid')\n",
    "fig, axes = plt.subplots(2,1, figsize=(10,4))\n",
    "\n",
    "for ax, col in zip(axes, num_cols):\n",
    "    df3.boxplot(column=col, grid=False, vert=False, ax=ax)\n",
    "    plt.tight_layout();\n",
    "\n",
    "#df3['Engine_Capacity_.CC.'].describe()"
   ]
  },
  {
   "cell_type": "code",
   "execution_count": 36,
   "id": "59fa448f",
   "metadata": {},
   "outputs": [],
   "source": [
    "condition = (df3['Engine_Capacity_.CC.'] < 20000)\n",
    "df3 = df3[condition]\n",
    "\n",
    "#df3['Age_of_Vehicle'].describe()\n",
    "\n",
    "\n",
    "age_of_vehicle_bins = {1: '1 to <2 years', \n",
    "                       2: '2 to <3 years', \n",
    "                       3: '3 to <7 years', \n",
    "                       4: '7 to <10 years', \n",
    "                       5: '>=10 years'}"
   ]
  },
  {
   "cell_type": "code",
   "execution_count": 37,
   "id": "0001e8c2",
   "metadata": {},
   "outputs": [
    {
     "data": {
      "text/plain": [
       "1    167809\n",
       "2    150185\n",
       "3    529315\n",
       "4    356323\n",
       "5    500339\n",
       "Name: Age_of_Vehicle, dtype: int64"
      ]
     },
     "execution_count": 37,
     "metadata": {},
     "output_type": "execute_result"
    }
   ],
   "source": [
    "df3['Age_of_Vehicle'] = np.digitize(df3['Age_of_Vehicle'], bins=[1,2,3,7,10])\n",
    "df3['Age_of_Vehicle'] = df3['Age_of_Vehicle'].astype('category')\n",
    "df3['Age_of_Vehicle'].value_counts().sort_index()"
   ]
  },
  {
   "cell_type": "code",
   "execution_count": 49,
   "id": "e2d63d6f",
   "metadata": {},
   "outputs": [
    {
     "data": {
      "text/plain": [
       "(1703971, 11)"
      ]
     },
     "execution_count": 49,
     "metadata": {},
     "output_type": "execute_result"
    }
   ],
   "source": [
    "num_cols = ['Engine_Capacity_.CC.',\"Latitude\",\"Longitude\"]\n",
    "cat_cols = ['Daytime', 'Speed_limit', 'Urban_or_Rural_Area',\n",
    "            'Age_Band_of_Driver', 'Age_of_Vehicle', 'Sex_of_Driver', 'Vehicle_Manoeuvre']\n",
    "target_col = ['Accident_Severity']\n",
    "\n",
    "cols = cat_cols + num_cols + target_col\n",
    "df_model = df3[cols].copy()\n",
    "df_model.shape"
   ]
  },
  {
   "cell_type": "code",
   "execution_count": 54,
   "id": "28747a13",
   "metadata": {},
   "outputs": [],
   "source": [
    "dummies = pd.get_dummies(df_model[cat_cols], drop_first=True)\n",
    "df_model = pd.concat([df_model[num_cols], df_model[target_col], dummies], axis=1)\n",
    "#df_model.shape\n",
    "#df_model.isna().sum().sum()\n",
    "features = df_model.drop(['Accident_Severity'], axis=1)\n",
    "target = df_model[['Accident_Severity']]"
   ]
  },
  {
   "cell_type": "code",
   "execution_count": 55,
   "id": "682d5c0a",
   "metadata": {},
   "outputs": [
    {
     "data": {
      "text/plain": [
       "Slight     0.859267\n",
       "Serious    0.127225\n",
       "Fatal      0.013508\n",
       "Name: Accident_Severity, dtype: float64"
      ]
     },
     "execution_count": 55,
     "metadata": {},
     "output_type": "execute_result"
    }
   ],
   "source": [
    "from sklearn.model_selection import train_test_split\n",
    "X_train, X_test, y_train, y_test = train_test_split(features, target, test_size=0.2)\n",
    "df_model['Accident_Severity'].value_counts(normalize=True)\n"
   ]
  },
  {
   "cell_type": "code",
   "execution_count": 56,
   "id": "8832a996",
   "metadata": {},
   "outputs": [],
   "source": [
    "test_lats=X_test[\"Latitude\"]\n",
    "test_longs=X_test[\"Longitude\"]"
   ]
  },
  {
   "cell_type": "code",
   "execution_count": 57,
   "id": "c08ce645",
   "metadata": {},
   "outputs": [],
   "source": [
    "X_train = X_train.drop(['Longitude', 'Latitude'], axis=1)\n"
   ]
  },
  {
   "cell_type": "code",
   "execution_count": 58,
   "id": "a5e6bcb7",
   "metadata": {},
   "outputs": [],
   "source": [
    "X_test = X_test.drop(['Longitude', 'Latitude'], axis=1)\n"
   ]
  },
  {
   "cell_type": "code",
   "execution_count": null,
   "id": "1c1a068f",
   "metadata": {},
   "outputs": [],
   "source": [
    "del accidents\n",
    "del vehicles \n",
    "\n",
    "\n",
    "# forest_1 = RandomForestClassifier(random_state=4, criterion='entropy', n_jobs=-1, class_weight='balanced')\n",
    "# forest_1.fit(X_train, y_train)\n",
    "# y_test_preds  = forest_1.predict(X_test)\n",
    "# report = classification_report(y_test, y_test_preds)\n",
    "# print('Classification Report Random Forest - with Entropy and class_weight Parameter: \\n', report)"
   ]
  },
  {
   "cell_type": "code",
   "execution_count": 60,
   "id": "fc94963d",
   "metadata": {},
   "outputs": [],
   "source": [
    "#type(y_train)\n",
    "label_encoder = preprocessing.LabelEncoder()\n",
    "y_train_nn = label_encoder.fit_transform(y_train)\n",
    "y_test_nn = label_encoder.fit_transform(y_test)\n",
    "x_train_ann = X_train.astype(\"float32\")/255\n",
    "x_test_ann = X_test.astype(\"float32\")/255\n",
    "\n",
    "num_classes = 3\n",
    "y_train_ann = utils.to_categorical(y_train_nn, num_classes)\n",
    "y_test_ann = utils.to_categorical(y_test_nn, num_classes)\n",
    "num_features = x_test_ann.shape[1]\n",
    "num_classes = y_train_ann.shape[1]"
   ]
  },
  {
   "cell_type": "code",
   "execution_count": 70,
   "id": "58a9cba3",
   "metadata": {},
   "outputs": [
    {
     "name": "stdout",
     "output_type": "stream",
     "text": [
      "Unique categories: ['Fatal' 'Serious' 'Slight']\n",
      "Category label mapping: {'Fatal': 0, 'Serious': 1, 'Slight': 2}\n"
     ]
    }
   ],
   "source": [
    "# unique_categories = label_encoder.classes_\n",
    "# print(\"Unique categories:\", unique_categories)\n",
    "\n",
    "# # Display the encoded labels for each unique category\n",
    "# encoded_labels = label_encoder.transform(unique_categories)\n",
    "# category_label_mapping = dict(zip(unique_categories, encoded_labels))\n",
    "# print(\"Category label mapping:\", category_label_mapping)"
   ]
  },
  {
   "cell_type": "code",
   "execution_count": 61,
   "id": "228d9548",
   "metadata": {},
   "outputs": [],
   "source": [
    "ann_model3 = tf.keras.Sequential()\n",
    "ann_model3.add(Dense(512, kernel_initializer='normal', activation='relu', input_shape=(50,)))\n",
    "\n",
    "ann_model3.add(Dense(num_classes, kernel_initializer='normal', activation='softmax'))\n",
    "\n",
    "ann_model3.compile(loss='categorical_crossentropy', optimizer='adam', metrics=['accuracy'])"
   ]
  },
  {
   "cell_type": "code",
   "execution_count": 62,
   "id": "450f4124",
   "metadata": {},
   "outputs": [
    {
     "name": "stdout",
     "output_type": "stream",
     "text": [
      "Epoch 1/20\n",
      "6816/6816 [==============================] - 42s 4ms/step - loss: 0.4399 - accuracy: 0.8590 - val_loss: 0.4305 - val_accuracy: 0.8592\n",
      "Epoch 2/20\n",
      "6816/6816 [==============================] - 18s 3ms/step - loss: 0.4287 - accuracy: 0.8593 - val_loss: 0.4279 - val_accuracy: 0.8592\n",
      "Epoch 3/20\n",
      "6816/6816 [==============================] - 19s 3ms/step - loss: 0.4275 - accuracy: 0.8594 - val_loss: 0.4258 - val_accuracy: 0.8591\n",
      "Epoch 4/20\n",
      "6816/6816 [==============================] - 18s 3ms/step - loss: 0.4269 - accuracy: 0.8593 - val_loss: 0.4309 - val_accuracy: 0.8592\n",
      "Epoch 5/20\n",
      "6816/6816 [==============================] - 19s 3ms/step - loss: 0.4266 - accuracy: 0.8594 - val_loss: 0.4254 - val_accuracy: 0.8592\n",
      "Epoch 6/20\n",
      "6816/6816 [==============================] - 19s 3ms/step - loss: 0.4264 - accuracy: 0.8593 - val_loss: 0.4262 - val_accuracy: 0.8592\n",
      "Epoch 7/20\n",
      "6816/6816 [==============================] - 18s 3ms/step - loss: 0.4261 - accuracy: 0.8594 - val_loss: 0.4253 - val_accuracy: 0.8592\n",
      "Epoch 8/20\n",
      "6816/6816 [==============================] - 18s 3ms/step - loss: 0.4259 - accuracy: 0.8594 - val_loss: 0.4250 - val_accuracy: 0.8592\n",
      "Epoch 9/20\n",
      "6816/6816 [==============================] - 19s 3ms/step - loss: 0.4258 - accuracy: 0.8594 - val_loss: 0.4252 - val_accuracy: 0.8592\n",
      "Epoch 10/20\n",
      "6816/6816 [==============================] - 18s 3ms/step - loss: 0.4256 - accuracy: 0.8594 - val_loss: 0.4286 - val_accuracy: 0.8592\n",
      "Epoch 11/20\n",
      "6816/6816 [==============================] - 18s 3ms/step - loss: 0.4256 - accuracy: 0.8594 - val_loss: 0.4241 - val_accuracy: 0.8593\n",
      "Epoch 12/20\n",
      "6816/6816 [==============================] - 18s 3ms/step - loss: 0.4255 - accuracy: 0.8594 - val_loss: 0.4239 - val_accuracy: 0.8592\n",
      "Epoch 13/20\n",
      "6816/6816 [==============================] - 18s 3ms/step - loss: 0.4253 - accuracy: 0.8594 - val_loss: 0.4245 - val_accuracy: 0.8592\n",
      "Epoch 14/20\n",
      "6816/6816 [==============================] - 20s 3ms/step - loss: 0.4252 - accuracy: 0.8594 - val_loss: 0.4244 - val_accuracy: 0.8592\n",
      "Epoch 15/20\n",
      "6816/6816 [==============================] - 20s 3ms/step - loss: 0.4252 - accuracy: 0.8594 - val_loss: 0.4239 - val_accuracy: 0.8592\n",
      "Epoch 16/20\n",
      "6816/6816 [==============================] - 19s 3ms/step - loss: 0.4251 - accuracy: 0.8594 - val_loss: 0.4276 - val_accuracy: 0.8592\n",
      "Epoch 17/20\n",
      "6816/6816 [==============================] - 19s 3ms/step - loss: 0.4250 - accuracy: 0.8594 - val_loss: 0.4244 - val_accuracy: 0.8591\n",
      "Epoch 18/20\n",
      "6816/6816 [==============================] - 18s 3ms/step - loss: 0.4249 - accuracy: 0.8594 - val_loss: 0.4237 - val_accuracy: 0.8593\n",
      "Epoch 19/20\n",
      "6816/6816 [==============================] - 18s 3ms/step - loss: 0.4250 - accuracy: 0.8594 - val_loss: 0.4257 - val_accuracy: 0.8592\n",
      "Epoch 20/20\n",
      "6816/6816 [==============================] - 18s 3ms/step - loss: 0.4248 - accuracy: 0.8594 - val_loss: 0.4246 - val_accuracy: 0.8592\n"
     ]
    }
   ],
   "source": [
    "history3 = ann_model3.fit(x_train_ann, y_train_ann, validation_data=(x_test_ann,y_test_ann), epochs=20, batch_size=200, verbose=1)"
   ]
  },
  {
   "cell_type": "code",
   "execution_count": 63,
   "id": "3dde5276",
   "metadata": {},
   "outputs": [
    {
     "name": "stdout",
     "output_type": "stream",
     "text": [
      "10650/10650 [==============================] - 15s 1ms/step - loss: 0.4246 - accuracy: 0.8592\n",
      "Test loss:  0.4245552122592926\n",
      "Test Accuracy::  0.8592027425765991\n"
     ]
    }
   ],
   "source": [
    "score3 = ann_model3.evaluate(x_test_ann, y_test_ann, verbose=1)\n",
    "print('Test loss: ', score3[0])\n",
    "print('Test Accuracy:: ', score3[1])"
   ]
  },
  {
   "cell_type": "code",
   "execution_count": 64,
   "id": "54bea7af",
   "metadata": {},
   "outputs": [
    {
     "name": "stdout",
     "output_type": "stream",
     "text": [
      "Saved model to disk\n"
     ]
    }
   ],
   "source": [
    "ann_model_json = ann_model3.to_json()\n",
    "with open(\"ann_model3.json\", \"w\") as json_file:\n",
    "    json_file.write(ann_model_json)\n",
    "# serialize weights to HDF5\n",
    "ann_model3.save_weights(\"C:\\\\Users\\\\Prakhar\\\\Desktop\\\\ann_model3.h5\")\n",
    "print(\"Saved model to disk\")"
   ]
  },
  {
   "cell_type": "code",
   "execution_count": 65,
   "id": "5245383f",
   "metadata": {},
   "outputs": [
    {
     "name": "stdout",
     "output_type": "stream",
     "text": [
      "10650/10650 [==============================] - 25s 1ms/step\n"
     ]
    }
   ],
   "source": [
    "y_pred_ann  = ann_model3.predict(x_test_ann)\n",
    "y_pred_ann = np.apply_along_axis(np.argmax, 1, y_pred_ann)"
   ]
  },
  {
   "cell_type": "code",
   "execution_count": 66,
   "id": "5a40e145",
   "metadata": {},
   "outputs": [
    {
     "name": "stdout",
     "output_type": "stream",
     "text": [
      "              precision    recall  f1-score   support\n",
      "\n",
      "           0       0.00      0.00      0.00      4569\n",
      "           1       0.46      0.01      0.01     43431\n",
      "           2       0.86      1.00      0.92    292795\n",
      "\n",
      "    accuracy                           0.86    340795\n",
      "   macro avg       0.44      0.34      0.31    340795\n",
      "weighted avg       0.80      0.86      0.80    340795\n",
      "\n"
     ]
    }
   ],
   "source": [
    "print(classification_report(y_test_nn, y_pred_ann))"
   ]
  },
  {
   "cell_type": "code",
   "execution_count": 107,
   "id": "b9dc976c",
   "metadata": {},
   "outputs": [],
   "source": [
    "# test_lats=pd.DataFrame(test_lats)\n",
    "# test_longs=pd.DataFrame(test_longs)\n",
    "# test_lats = test_lats.reset_index(drop=True)\n",
    "# test_longs = test_longs.reset_index(drop=True)\n",
    "# df_y_pred=pd.DataFrame(y_pred_ann)\n",
    "# df_y_pred = df_y_pred.reset_index(drop=True)\n",
    "# df_y_pred.isna().sum()\n",
    "# combined_df = pd.concat([test_lats, test_longs, df_y_pred], axis=1,ignore_index=True)\n",
    "\n",
    "# # Optional: Rename the columns if needed\n",
    "# combined_df.columns = ['latitude', 'longitude', 'y_pred']"
   ]
  },
  {
   "cell_type": "code",
   "execution_count": 108,
   "id": "2d1d1537",
   "metadata": {},
   "outputs": [],
   "source": [
    "****************************************************************************"
   ]
  },
  {
   "cell_type": "code",
   "execution_count": 111,
   "id": "e0a9c62e",
   "metadata": {
    "scrolled": true
   },
   "outputs": [
    {
     "data": {
      "text/html": [
       "<div>\n",
       "<style scoped>\n",
       "    .dataframe tbody tr th:only-of-type {\n",
       "        vertical-align: middle;\n",
       "    }\n",
       "\n",
       "    .dataframe tbody tr th {\n",
       "        vertical-align: top;\n",
       "    }\n",
       "\n",
       "    .dataframe thead th {\n",
       "        text-align: right;\n",
       "    }\n",
       "</style>\n",
       "<table border=\"1\" class=\"dataframe\">\n",
       "  <thead>\n",
       "    <tr style=\"text-align: right;\">\n",
       "      <th></th>\n",
       "      <th>latitude</th>\n",
       "      <th>longitude</th>\n",
       "      <th>y_pred</th>\n",
       "    </tr>\n",
       "  </thead>\n",
       "  <tbody>\n",
       "    <tr>\n",
       "      <th>0</th>\n",
       "      <td>50.894200</td>\n",
       "      <td>-1.262879</td>\n",
       "      <td>2</td>\n",
       "    </tr>\n",
       "    <tr>\n",
       "      <th>1</th>\n",
       "      <td>51.712308</td>\n",
       "      <td>-0.221795</td>\n",
       "      <td>2</td>\n",
       "    </tr>\n",
       "    <tr>\n",
       "      <th>2</th>\n",
       "      <td>54.895514</td>\n",
       "      <td>-5.021088</td>\n",
       "      <td>2</td>\n",
       "    </tr>\n",
       "    <tr>\n",
       "      <th>3</th>\n",
       "      <td>51.352165</td>\n",
       "      <td>-0.158367</td>\n",
       "      <td>2</td>\n",
       "    </tr>\n",
       "    <tr>\n",
       "      <th>4</th>\n",
       "      <td>52.754220</td>\n",
       "      <td>-2.376460</td>\n",
       "      <td>2</td>\n",
       "    </tr>\n",
       "  </tbody>\n",
       "</table>\n",
       "</div>"
      ],
      "text/plain": [
       "    latitude  longitude  y_pred\n",
       "0  50.894200  -1.262879       2\n",
       "1  51.712308  -0.221795       2\n",
       "2  54.895514  -5.021088       2\n",
       "3  51.352165  -0.158367       2\n",
       "4  52.754220  -2.376460       2"
      ]
     },
     "execution_count": 111,
     "metadata": {},
     "output_type": "execute_result"
    }
   ],
   "source": [
    "# combined_df.head()"
   ]
  },
  {
   "cell_type": "code",
   "execution_count": 116,
   "id": "66cce19c",
   "metadata": {},
   "outputs": [],
   "source": [
    "# unique_values = combined_df['y_pred'].unique()\n"
   ]
  },
  {
   "cell_type": "code",
   "execution_count": 117,
   "id": "37144a5f",
   "metadata": {},
   "outputs": [
    {
     "data": {
      "text/plain": [
       "array([2, 1], dtype=int64)"
      ]
     },
     "execution_count": 117,
     "metadata": {},
     "output_type": "execute_result"
    }
   ],
   "source": [
    "# unique_values"
   ]
  },
  {
   "cell_type": "code",
   "execution_count": 112,
   "id": "10a74d48",
   "metadata": {},
   "outputs": [],
   "source": [
    "# df_class1 = combined_df[combined_df['y_pred'] == 1]\n",
    "# df_class2 = combined_df[combined_df['y_pred'] == 2]\n",
    "# df_class3 = combined_df[combined_df['y_pred'] == 3]"
   ]
  },
  {
   "cell_type": "code",
   "execution_count": 115,
   "id": "3be1b98e",
   "metadata": {},
   "outputs": [],
   "source": [
    "# df_class1.to_csv('C:\\\\Users\\\\Prakhar\\\\Desktop\\\\class1.csv', index=False)\n",
    "# df_class2.to_csv('C:\\\\Users\\\\Prakhar\\\\Desktop\\\\class2.csv', index=False)\n",
    "# df_class3.to_csv('C:\\\\Users\\\\Prakhar\\\\Desktop\\\\class3.csv', index=False)\n"
   ]
  },
  {
   "cell_type": "code",
   "execution_count": null,
   "id": "cae2b2e5",
   "metadata": {},
   "outputs": [],
   "source": []
  },
  {
   "cell_type": "code",
   "execution_count": null,
   "id": "4a7cced1",
   "metadata": {},
   "outputs": [],
   "source": []
  },
  {
   "cell_type": "code",
   "execution_count": 25,
   "id": "3a4104ff",
   "metadata": {},
   "outputs": [],
   "source": [
    "# from tensorflow.keras.models import Sequential\n",
    "# from tensorflow.keras.layers import Dense, BatchNormalization\n",
    "\n",
    "# Assuming `num_classes` is defined\n",
    "# ann_model3 = Sequential()\n",
    "# ann_model3.add(Dense(512, kernel_initializer='normal', activation='relu', input_shape=(50,)))\n",
    "# ann_model3.add(BatchNormalization())  # Batch Normalization layer\n",
    "# ann_model3.add(Dense(256, kernel_initializer='normal', activation='relu'))\n",
    "# ann_model3.add(BatchNormalization())  # Batch Normalization layer\n",
    "# ann_model3.add(Dense(128, kernel_initializer='normal', activation='relu'))\n",
    "# ann_model3.add(BatchNormalization())  # Batch Normalization layer\n",
    "\n",
    "# ann_model3.add(Dense(3, kernel_initializer='normal', activation='softmax'))\n",
    "\n",
    "# ann_model3.compile(loss='categorical_crossentropy', optimizer='adam', metrics=['accuracy'])\n"
   ]
  },
  {
   "cell_type": "code",
   "execution_count": 26,
   "id": "4d25f344",
   "metadata": {
    "scrolled": true
   },
   "outputs": [
    {
     "name": "stdout",
     "output_type": "stream",
     "text": [
      "Epoch 1/20\n",
      "6816/6816 [==============================] - 211s 8ms/step - loss: 0.4378 - accuracy: 0.8575 - val_loss: 0.5708 - val_accuracy: 0.8597\n",
      "Epoch 2/20\n",
      "6816/6816 [==============================] - 52s 8ms/step - loss: 0.4285 - accuracy: 0.8590 - val_loss: 0.5874 - val_accuracy: 0.8552\n",
      "Epoch 3/20\n",
      "6816/6816 [==============================] - 48s 7ms/step - loss: 0.4273 - accuracy: 0.8590 - val_loss: 0.5597 - val_accuracy: 0.8597\n",
      "Epoch 4/20\n",
      "6816/6816 [==============================] - 47s 7ms/step - loss: 0.4265 - accuracy: 0.8591 - val_loss: 0.5070 - val_accuracy: 0.8597\n",
      "Epoch 5/20\n",
      "6816/6816 [==============================] - 45s 7ms/step - loss: 0.4259 - accuracy: 0.8591 - val_loss: 0.5799 - val_accuracy: 0.8597\n",
      "Epoch 6/20\n",
      "6816/6816 [==============================] - 46s 7ms/step - loss: 0.4257 - accuracy: 0.8591 - val_loss: 0.5309 - val_accuracy: 0.8597\n",
      "Epoch 7/20\n",
      "6816/6816 [==============================] - 46s 7ms/step - loss: 0.4253 - accuracy: 0.8592 - val_loss: 0.8298 - val_accuracy: 0.7996\n",
      "Epoch 8/20\n",
      "6816/6816 [==============================] - 46s 7ms/step - loss: 0.4252 - accuracy: 0.8592 - val_loss: 0.4369 - val_accuracy: 0.8571\n",
      "Epoch 9/20\n",
      "6816/6816 [==============================] - 46s 7ms/step - loss: 0.4250 - accuracy: 0.8591 - val_loss: 0.5217 - val_accuracy: 0.8597\n",
      "Epoch 10/20\n",
      "6816/6816 [==============================] - 47s 7ms/step - loss: 0.4247 - accuracy: 0.8592 - val_loss: 0.5215 - val_accuracy: 0.8597\n",
      "Epoch 11/20\n",
      "6816/6816 [==============================] - 48s 7ms/step - loss: 0.4247 - accuracy: 0.8592 - val_loss: 0.4360 - val_accuracy: 0.8597\n",
      "Epoch 12/20\n",
      "6816/6816 [==============================] - 47s 7ms/step - loss: 0.4245 - accuracy: 0.8592 - val_loss: 0.5439 - val_accuracy: 0.8597\n",
      "Epoch 13/20\n",
      "4449/6816 [==================>...........] - ETA: 15s - loss: 0.4243 - accuracy: 0.8591"
     ]
    },
    {
     "name": "stderr",
     "output_type": "stream",
     "text": [
      "\n",
      "KeyboardInterrupt\n",
      "\n"
     ]
    }
   ],
   "source": [
    "# history3 = ann_model3.fit(x_train_ann, y_train_ann, validation_data=(x_test_ann,y_test_ann), epochs=20, batch_size=200, verbose=1)"
   ]
  },
  {
   "cell_type": "code",
   "execution_count": null,
   "id": "1690d5cb",
   "metadata": {},
   "outputs": [],
   "source": [
    "# y_pred_ann  = ann_model3.predict(x_test_ann)\n",
    "# y_pred_ann = np.apply_along_axis(np.argmax, 1, y_pred_ann)"
   ]
  },
  {
   "cell_type": "code",
   "execution_count": null,
   "id": "cc992aa2",
   "metadata": {},
   "outputs": [],
   "source": [
    "# print(classification_report(y_test_nn, y_pred_ann))"
   ]
  },
  {
   "cell_type": "code",
   "execution_count": 68,
   "id": "b947a725",
   "metadata": {},
   "outputs": [
    {
     "name": "stdout",
     "output_type": "stream",
     "text": [
      "<class 'pandas.core.frame.DataFrame'>\n",
      "Int64Index: 1703971 entries, 0 to 2058070\n",
      "Data columns (total 52 columns):\n",
      " #   Column                                                 Dtype  \n",
      "---  ------                                                 -----  \n",
      " 0   Engine_Capacity_.CC.                                   float64\n",
      " 1   Latitude                                               float64\n",
      " 2   Longitude                                              float64\n",
      " 3   Daytime_2                                              uint8  \n",
      " 4   Daytime_3                                              uint8  \n",
      " 5   Daytime_4                                              uint8  \n",
      " 6   Daytime_5                                              uint8  \n",
      " 7   Speed_limit_15.0                                       uint8  \n",
      " 8   Speed_limit_20.0                                       uint8  \n",
      " 9   Speed_limit_30.0                                       uint8  \n",
      " 10  Speed_limit_40.0                                       uint8  \n",
      " 11  Speed_limit_50.0                                       uint8  \n",
      " 12  Speed_limit_60.0                                       uint8  \n",
      " 13  Speed_limit_70.0                                       uint8  \n",
      " 14  Urban_or_Rural_Area_Unallocated                        uint8  \n",
      " 15  Urban_or_Rural_Area_Urban                              uint8  \n",
      " 16  Age_Band_of_Driver_11 - 15                             uint8  \n",
      " 17  Age_Band_of_Driver_16 - 20                             uint8  \n",
      " 18  Age_Band_of_Driver_21 - 25                             uint8  \n",
      " 19  Age_Band_of_Driver_26 - 35                             uint8  \n",
      " 20  Age_Band_of_Driver_36 - 45                             uint8  \n",
      " 21  Age_Band_of_Driver_46 - 55                             uint8  \n",
      " 22  Age_Band_of_Driver_56 - 65                             uint8  \n",
      " 23  Age_Band_of_Driver_6 - 10                              uint8  \n",
      " 24  Age_Band_of_Driver_66 - 75                             uint8  \n",
      " 25  Age_Band_of_Driver_Data missing or out of range        uint8  \n",
      " 26  Age_Band_of_Driver_Over 75                             uint8  \n",
      " 27  Age_of_Vehicle_2                                       uint8  \n",
      " 28  Age_of_Vehicle_3                                       uint8  \n",
      " 29  Age_of_Vehicle_4                                       uint8  \n",
      " 30  Age_of_Vehicle_5                                       uint8  \n",
      " 31  Sex_of_Driver_Female                                   uint8  \n",
      " 32  Sex_of_Driver_Male                                     uint8  \n",
      " 33  Sex_of_Driver_Not known                                uint8  \n",
      " 34  Vehicle_Manoeuvre_Changing lane to right               uint8  \n",
      " 35  Vehicle_Manoeuvre_Data missing or out of range         uint8  \n",
      " 36  Vehicle_Manoeuvre_Going ahead left-hand bend           uint8  \n",
      " 37  Vehicle_Manoeuvre_Going ahead other                    uint8  \n",
      " 38  Vehicle_Manoeuvre_Going ahead right-hand bend          uint8  \n",
      " 39  Vehicle_Manoeuvre_Moving off                           uint8  \n",
      " 40  Vehicle_Manoeuvre_Overtaking - nearside                uint8  \n",
      " 41  Vehicle_Manoeuvre_Overtaking moving vehicle - offside  uint8  \n",
      " 42  Vehicle_Manoeuvre_Overtaking static vehicle - offside  uint8  \n",
      " 43  Vehicle_Manoeuvre_Parked                               uint8  \n",
      " 44  Vehicle_Manoeuvre_Reversing                            uint8  \n",
      " 45  Vehicle_Manoeuvre_Slowing or stopping                  uint8  \n",
      " 46  Vehicle_Manoeuvre_Turning left                         uint8  \n",
      " 47  Vehicle_Manoeuvre_Turning right                        uint8  \n",
      " 48  Vehicle_Manoeuvre_U-turn                               uint8  \n",
      " 49  Vehicle_Manoeuvre_Waiting to go - held up              uint8  \n",
      " 50  Vehicle_Manoeuvre_Waiting to turn left                 uint8  \n",
      " 51  Vehicle_Manoeuvre_Waiting to turn right                uint8  \n",
      "dtypes: float64(3), uint8(49)\n",
      "memory usage: 131.6 MB\n"
     ]
    }
   ],
   "source": [
    "features.info()"
   ]
  },
  {
   "cell_type": "code",
   "execution_count": 69,
   "id": "36950a59",
   "metadata": {},
   "outputs": [
    {
     "name": "stdout",
     "output_type": "stream",
     "text": [
      "10650/10650 [==============================] - 15s 1ms/step\n"
     ]
    },
    {
     "data": {
      "image/png": "[encoded data removed]",
      "text/plain": [
       "<Figure size 800x600 with 1 Axes>"
      ]
     },
     "metadata": {},
     "output_type": "display_data"
    }
   ],
   "source": [
    "import numpy as np\n",
    "import matplotlib.pyplot as plt\n",
    "from sklearn.metrics import roc_curve, auc\n",
    "from sklearn.preprocessing import label_binarize\n",
    "from sklearn.model_selection import train_test_split\n",
    "from tensorflow.keras.models import Sequential\n",
    "from tensorflow.keras.layers import Dense\n",
    "from tensorflow.keras.utils import to_categorical\n",
    "\n",
    "# Assuming x_train_ann, y_train_ann, x_test_ann, y_test_ann are your training and testing data\n",
    "# Assuming num_classes is defined\n",
    "\n",
    "# Convert labels to one-hot encoding\n",
    "y_train_one_hot = to_categorical(y_train_ann, num_classes=3)\n",
    "y_test_one_hot = to_categorical(y_test_ann, num_classes=3)\n",
    "\n",
    "# Build and train your neural network (ann_model3)\n",
    "# ...\n",
    "\n",
    "# Make predictions on the test set\n",
    "y_pred_ann = ann_model3.predict(x_test_ann)\n",
    "y_score = y_pred_ann\n",
    "\n",
    "# For binary or multilabel classification, you need to binarize the labels\n",
    "if num_classes > 2:\n",
    "    y_test_one_hot = label_binarize(y_test_ann, classes=range(3))\n",
    "\n",
    "# Compute ROC curve and ROC area for each class\n",
    "fpr = dict()\n",
    "tpr = dict()\n",
    "roc_auc = dict()\n",
    "\n",
    "for i in range(num_classes):\n",
    "    fpr[i], tpr[i], _ = roc_curve(y_test_one_hot[:, i], y_score[:, i])\n",
    "    roc_auc[i] = auc(fpr[i], tpr[i])\n",
    "\n",
    "# Compute micro-average ROC curve and ROC area\n",
    "fpr[\"micro\"], tpr[\"micro\"], _ = roc_curve(y_test_one_hot.ravel(), y_score.ravel())\n",
    "roc_auc[\"micro\"] = auc(fpr[\"micro\"], tpr[\"micro\"])\n",
    "\n",
    "# Plot the ROC curve\n",
    "plt.figure(figsize=(8, 6))\n",
    "\n",
    "# Plot micro-average ROC curve\n",
    "plt.plot(fpr[\"micro\"], tpr[\"micro\"], label=f'Micro-average ROC curve (AUC = {roc_auc[\"micro\"]:0.2f})', color='deeppink', linestyle=':')\n",
    "\n",
    "# Plot each class's ROC curve\n",
    "for i in range(num_classes):\n",
    "    plt.plot(fpr[i], tpr[i], label=f'Class {i} (AUC = {roc_auc[i]:0.2f})')\n",
    "\n",
    "plt.plot([0, 1], [0, 1], 'k--', lw=2)  # Plot diagonal line\n",
    "plt.xlabel('False Positive Rate')\n",
    "plt.ylabel('True Positive Rate')\n",
    "plt.title('Receiver Operating Characteristic (ROC) Curve')\n",
    "plt.legend(loc='lower right')\n",
    "plt.show()\n"
   ]
  },
  {
   "cell_type": "code",
   "execution_count": null,
   "id": "4cbbbf37",
   "metadata": {},
   "outputs": [],
   "source": []
  }
 ],
 "metadata": {
  "kernelspec": {
   "display_name": "Python 3 (ipykernel)",
   "language": "python",
   "name": "python3"
  },
  "language_info": {
   "codemirror_mode": {
    "name": "ipython",
    "version": 3
   },
   "file_extension": ".py",
   "mimetype": "text/x-python",
   "name": "python",
   "nbconvert_exporter": "python",
   "pygments_lexer": "ipython3",
   "version": "3.10.9"
  }
 },
 "nbformat": 4,
 "nbformat_minor": 5
}
